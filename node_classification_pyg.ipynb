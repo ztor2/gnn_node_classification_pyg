{
 "cells": [
  {
   "cell_type": "code",
   "execution_count": 1,
   "id": "54a31bda-d3d5-4413-88e3-7fdd55112acc",
   "metadata": {},
   "outputs": [],
   "source": [
    "import numpy as np\n",
    "import random\n",
    "from tqdm.auto import tqdm\n",
    "import warnings; warnings.filterwarnings(\"ignore\")"
   ]
  },
  {
   "cell_type": "code",
   "execution_count": 25,
   "id": "4706f22a-4301-4c88-befe-3a67aa8d39b9",
   "metadata": {},
   "outputs": [],
   "source": [
    "import torch\n",
    "import torch.nn.functional as F\n",
    "from torch_geometric.nn import GCNConv\n",
    "from torch_geometric.data import Data\n",
    "from torch_geometric.transforms import RandomNodeSplit\n",
    "from torch_geometric.datasets import CoraFull"
   ]
  },
  {
   "cell_type": "markdown",
   "id": "60b03dd4-7715-4e33-bf90-597c0785ed2d",
   "metadata": {
    "tags": []
   },
   "source": [
    "#### Construct data(sample PyG data)"
   ]
  },
  {
   "cell_type": "code",
   "execution_count": 3,
   "id": "ba7e8788-c5e1-4869-b188-11fd5ab96dbd",
   "metadata": {},
   "outputs": [],
   "source": [
    "data = CoraFull('../tmp')"
   ]
  },
  {
   "cell_type": "code",
   "execution_count": 4,
   "id": "6ff6aae2-4578-404a-b5c1-072ea906021b",
   "metadata": {},
   "outputs": [],
   "source": [
    "g = data[0]"
   ]
  },
  {
   "cell_type": "code",
   "execution_count": 5,
   "id": "26edb5c0-ad0a-4cba-85b5-c993a71396fc",
   "metadata": {},
   "outputs": [
    {
     "data": {
      "text/plain": [
       "Data(x=[19793, 8710], edge_index=[2, 126842], y=[19793])"
      ]
     },
     "execution_count": 5,
     "metadata": {},
     "output_type": "execute_result"
    }
   ],
   "source": [
    "g"
   ]
  },
  {
   "cell_type": "code",
   "execution_count": 6,
   "id": "8060fb65-a512-447e-84fa-091428db20e1",
   "metadata": {},
   "outputs": [
    {
     "name": "stdout",
     "output_type": "stream",
     "text": [
      "torch.Size([19793, 8710])\n"
     ]
    },
    {
     "data": {
      "text/plain": [
       "tensor([[0., 0., 0.,  ..., 0., 0., 0.],\n",
       "        [0., 0., 0.,  ..., 0., 0., 0.],\n",
       "        [0., 0., 0.,  ..., 0., 0., 0.],\n",
       "        ...,\n",
       "        [0., 0., 0.,  ..., 0., 0., 0.],\n",
       "        [0., 0., 0.,  ..., 0., 0., 0.],\n",
       "        [0., 0., 0.,  ..., 0., 0., 0.]])"
      ]
     },
     "execution_count": 6,
     "metadata": {},
     "output_type": "execute_result"
    }
   ],
   "source": [
    "print(g.x.shape)\n",
    "g.x"
   ]
  },
  {
   "cell_type": "code",
   "execution_count": 7,
   "id": "2f3a0a6c-0ed9-45a4-81fa-2c3fe8d94d2d",
   "metadata": {},
   "outputs": [
    {
     "name": "stdout",
     "output_type": "stream",
     "text": [
      "torch.Size([19793])\n"
     ]
    },
    {
     "data": {
      "text/plain": [
       "tensor([ 0,  0,  0,  ..., 52, 59, 55])"
      ]
     },
     "execution_count": 7,
     "metadata": {},
     "output_type": "execute_result"
    }
   ],
   "source": [
    "print(g.y.shape)\n",
    "g.y"
   ]
  },
  {
   "cell_type": "code",
   "execution_count": 8,
   "id": "c216cf89-54f2-4b4e-b0fd-bfc8fd108559",
   "metadata": {},
   "outputs": [
    {
     "data": {
      "text/plain": [
       "70"
      ]
     },
     "execution_count": 8,
     "metadata": {},
     "output_type": "execute_result"
    }
   ],
   "source": [
    "num_classes = len(np.unique(g.y))\n",
    "num_classes"
   ]
  },
  {
   "cell_type": "code",
   "execution_count": 9,
   "id": "0ff9b952-7497-45fa-ab91-d3d7a5fbd155",
   "metadata": {},
   "outputs": [
    {
     "data": {
      "text/plain": [
       "tensor([1., 1., 1.,  ..., 1., 1., 1.])"
      ]
     },
     "execution_count": 9,
     "metadata": {},
     "output_type": "execute_result"
    }
   ],
   "source": [
    "# g.edge_weight = torch.tensor([1. for i in range(g.num_edges)]); g.edge_weight"
   ]
  },
  {
   "cell_type": "code",
   "execution_count": 10,
   "id": "df45a99b-12a4-466d-b87a-d890e28a502b",
   "metadata": {},
   "outputs": [
    {
     "data": {
      "text/plain": [
       "tensor([[    0,     0,     0,  ..., 19791, 19791, 19792],\n",
       "        [ 1227,  4021,  4056,  ...,  5100, 10850,  2947]])"
      ]
     },
     "execution_count": 10,
     "metadata": {},
     "output_type": "execute_result"
    }
   ],
   "source": [
    "g.edge_index"
   ]
  },
  {
   "cell_type": "markdown",
   "id": "43435891-6aac-4ae3-b7f7-1a3e586e9ee0",
   "metadata": {},
   "source": [
    "#### Construct data(custom data)"
   ]
  },
  {
   "cell_type": "code",
   "execution_count": 11,
   "id": "4e186f23-dd57-49f1-8ba3-6d23348a16fd",
   "metadata": {},
   "outputs": [],
   "source": [
    "# data = Data(x=x, edge_index=edge_index, y=y, edge_weight=edge_weight)"
   ]
  },
  {
   "cell_type": "code",
   "execution_count": 12,
   "id": "be644c19-0cdb-4261-b9d2-6ccd8104f7a7",
   "metadata": {},
   "outputs": [],
   "source": [
    "# g = data[0]"
   ]
  },
  {
   "cell_type": "markdown",
   "id": "8ddf98e7-bff9-4fb3-9b31-b44cea85739d",
   "metadata": {},
   "source": [
    "#### Data split"
   ]
  },
  {
   "cell_type": "code",
   "execution_count": 13,
   "id": "30e76b21-948f-4013-8591-13ab64d48e1c",
   "metadata": {},
   "outputs": [],
   "source": [
    "def data_split(gdata, val_ratio=0.2, test_ratio=0.2):\n",
    "    gidx = list(range(gdata.num_nodes))\n",
    "    num_val = round(gdata.num_nodes * val_ratio)\n",
    "    num_test = round(gdata.num_nodes * test_ratio)\n",
    "    num_train = gdata.num_nodes - num_val - num_test\n",
    "    print(f'num_train: {num_train}\\nnum_val: {num_val}\\nnum_test: {num_test}')\n",
    "    if num_val + num_test + num_train == gdata.num_nodes: \n",
    "        print('Sum of splited data is equal to original data: True')\n",
    "    else:\n",
    "        print('Error occured in data split')\n",
    "        \n",
    "    random.shuffle(gidx)\n",
    "    val_idx = gidx[:num_val]\n",
    "    test_idx = gidx[num_val:num_val+num_test]\n",
    "    train_idx = gidx[num_val+num_test:]\n",
    "    \n",
    "    train_mask = torch.zeros(gdata.num_nodes, dtype=torch.bool)\n",
    "    val_mask = torch.zeros(gdata.num_nodes, dtype=torch.bool)\n",
    "    test_mask = torch.zeros(gdata.num_nodes, dtype=torch.bool)\n",
    "    \n",
    "    train_mask[train_idx] = True\n",
    "    val_mask[val_idx] = True\n",
    "    test_mask[test_idx] = True\n",
    "    \n",
    "    gdata.train_mask = train_mask\n",
    "    gdata.val_mask = val_mask\n",
    "    gdata.test_mask = test_mask\n",
    "    gdata.num_classes = len(np.unique(gdata.y))\n",
    "    return gdata"
   ]
  },
  {
   "cell_type": "code",
   "execution_count": 14,
   "id": "974ed963-f5fc-40f9-a007-5f8d383f8600",
   "metadata": {},
   "outputs": [
    {
     "name": "stdout",
     "output_type": "stream",
     "text": [
      "num_train: 11875\n",
      "num_val: 3959\n",
      "num_test: 3959\n",
      "Sum of splited data is equal to original data: True\n"
     ]
    }
   ],
   "source": [
    "g_ = data_split(g, val_ratio=0.2, test_ratio=0.2)"
   ]
  },
  {
   "cell_type": "markdown",
   "id": "3a01be4a-0d8c-403d-9192-4ea3933afe19",
   "metadata": {},
   "source": [
    "#### Define model"
   ]
  },
  {
   "cell_type": "code",
   "execution_count": 15,
   "id": "753ab6a4-3a68-4527-90bb-912beec85957",
   "metadata": {},
   "outputs": [],
   "source": [
    "dim_h= 256\n",
    "lr = 0.005\n",
    "weight_decay = 5e-4\n",
    "dropout = 0.5\n",
    "epochs = 100"
   ]
  },
  {
   "cell_type": "code",
   "execution_count": 16,
   "id": "de83c35e-72b4-420e-b449-6d2fe3753bd6",
   "metadata": {},
   "outputs": [],
   "source": [
    "# You can choose GNN model from: https://pytorch-geometric.readthedocs.io/en/latest/modules/nn.html\n",
    "class GCN(torch.nn.Module):\n",
    "  def __init__(self, dim_in, dim_h, dim_out):\n",
    "    super().__init__()\n",
    "    self.gcn1 = GCNConv(dim_in, dim_h)\n",
    "    self.gcn2 = GCNConv(dim_h, dim_out)\n",
    "    self.optimizer = torch.optim.Adam(self.parameters(), lr=lr, weight_decay=weight_decay)\n",
    "\n",
    "  def forward(self, x, edge_index, edge_weight):\n",
    "    h = self.gcn1(x, edge_index, edge_weight).relu()\n",
    "    h = F.dropout(h, p=dropout, training=self.training)\n",
    "    h = self.gcn2(h, edge_index, edge_weight)\n",
    "    return h, F.log_softmax(h, dim=1)"
   ]
  },
  {
   "cell_type": "code",
   "execution_count": null,
   "id": "3d74ad36-39be-4c72-a0b3-4db668d465ea",
   "metadata": {},
   "outputs": [],
   "source": [
    "# class SAGE(torch.nn.Module):\n",
    "#     def __init__(self, dim_in, dim_h, dim_out):\n",
    "#         super().__init__()\n",
    "#         self.sage1 = SAGEConv(dim_in, dim_h)\n",
    "#         self.sage2 = SAGEConv(dim_h, dim_out)\n",
    "    \n",
    "#     def forward(self, x, edge_index):\n",
    "#         h = self.sage1(x, edge_index).relu()\n",
    "#         h = F.dropout(h, p=dropout, training=self.training)\n",
    "#         h = self.sage2(h, edge_index)\n",
    "#         return h, F.log_softmax(h, dim=1)"
   ]
  },
  {
   "cell_type": "code",
   "execution_count": 17,
   "id": "c4c534c8-97d9-4e40-bfcd-fd1e1e50cb4d",
   "metadata": {},
   "outputs": [],
   "source": [
    "def accuracy(pred_y, y):\n",
    "    return ((pred_y == y).sum() / len(y)).item()\n",
    "\n",
    "def train(model, data):\n",
    "    criterion = torch.nn.CrossEntropyLoss()\n",
    "    optimizer = model.optimizer\n",
    "\n",
    "    model.train()\n",
    "    for epoch in tqdm(range(epochs+1)):\n",
    "        \n",
    "        optimizer.zero_grad()\n",
    "        _, out = model(data.x, data.edge_index, data.edge_weight)\n",
    "        loss = criterion(out[data.train_mask], data.y[data.train_mask])\n",
    "        acc = accuracy(out[data.train_mask].argmax(dim=1), data.y[data.train_mask])\n",
    "        loss.backward()\n",
    "        optimizer.step()\n",
    "\n",
    "        val_loss = criterion(out[data.val_mask], data.y[data.val_mask])\n",
    "        val_acc = accuracy(out[data.val_mask].argmax(dim=1), data.y[data.val_mask])\n",
    "\n",
    "        if(epoch % 10 == 0) and (epoch !=0):\n",
    "            print(f'Epoch {epoch:>3} | Train Loss: {loss:.3f} | Train Acc: '\n",
    "                  f'{acc*100:>6.2f}% | Val Loss: {val_loss:.2f} | '\n",
    "                  f'Val Acc: {val_acc*100:.2f}%')\n",
    "    print('Training finished!')\n",
    "    \n",
    "def test(model, data):\n",
    "    model.eval()\n",
    "    _, out = model(data.x, data.edge_index, data.edge_weight)\n",
    "    acc = accuracy(out.argmax(dim=1)[data.test_mask], data.y[data.test_mask])\n",
    "    return acc"
   ]
  },
  {
   "cell_type": "markdown",
   "id": "54c1569c-05ad-4a44-9524-d68ed07c9fc9",
   "metadata": {},
   "source": [
    "#### Training"
   ]
  },
  {
   "cell_type": "code",
   "execution_count": 18,
   "id": "7ae9ae5e-800c-420b-b1ba-47ef71a49181",
   "metadata": {},
   "outputs": [],
   "source": [
    "model = GCN(g_.num_features, dim_h, g_.num_classes)"
   ]
  },
  {
   "cell_type": "code",
   "execution_count": 26,
   "id": "3193fcbf-5e22-433b-9cf5-bced52f247b5",
   "metadata": {},
   "outputs": [],
   "source": [
    "device = torch.device('cuda' if torch.cuda.is_available() else 'cpu')\n",
    "device"
   ]
  },
  {
   "cell_type": "code",
   "execution_count": 27,
   "id": "1a76d736-2702-46ac-8706-d7171254e4b8",
   "metadata": {
    "tags": []
   },
   "outputs": [],
   "source": [
    "model = model.to(device)\n",
    "g_ = g_.to(device)"
   ]
  },
  {
   "cell_type": "code",
   "execution_count": 28,
   "id": "f2fdffa3-c664-49b8-86ec-a4495db8d1b2",
   "metadata": {},
   "outputs": [
    {
     "name": "stdout",
     "output_type": "stream",
     "text": [
      "GCN(\n",
      "  (gcn1): GCNConv(8710, 256)\n",
      "  (gcn2): GCNConv(256, 70)\n",
      ")\n"
     ]
    },
    {
     "data": {
      "application/vnd.jupyter.widget-view+json": {
       "model_id": "8f832ca06b3b42acb43361b3b616d0e8",
       "version_major": 2,
       "version_minor": 0
      },
      "text/plain": [
       "  0%|          | 0/101 [00:00<?, ?it/s]"
      ]
     },
     "metadata": {},
     "output_type": "display_data"
    },
    {
     "name": "stdout",
     "output_type": "stream",
     "text": [
      "Epoch  10 | Train Loss: 0.429 | Train Acc:  88.43% | Val Loss: 1.11 | Val Acc: 70.37%\n",
      "Epoch  20 | Train Loss: 0.423 | Train Acc:  88.44% | Val Loss: 1.11 | Val Acc: 70.07%\n",
      "Epoch  30 | Train Loss: 0.423 | Train Acc:  88.51% | Val Loss: 1.10 | Val Acc: 70.32%\n",
      "Epoch  40 | Train Loss: 0.420 | Train Acc:  88.50% | Val Loss: 1.11 | Val Acc: 70.37%\n",
      "Epoch  50 | Train Loss: 0.419 | Train Acc:  88.38% | Val Loss: 1.12 | Val Acc: 69.69%\n",
      "Epoch  60 | Train Loss: 0.413 | Train Acc:  89.11% | Val Loss: 1.09 | Val Acc: 70.35%\n",
      "Epoch  70 | Train Loss: 0.416 | Train Acc:  88.60% | Val Loss: 1.12 | Val Acc: 70.45%\n",
      "Epoch  80 | Train Loss: 0.414 | Train Acc:  89.05% | Val Loss: 1.11 | Val Acc: 70.70%\n",
      "Epoch  90 | Train Loss: 0.416 | Train Acc:  88.29% | Val Loss: 1.11 | Val Acc: 70.42%\n",
      "Epoch 100 | Train Loss: 0.410 | Train Acc:  89.27% | Val Loss: 1.12 | Val Acc: 70.30%\n",
      "Training finished!\n"
     ]
    }
   ],
   "source": [
    "print(model)\n",
    "train(model, g_)"
   ]
  },
  {
   "cell_type": "markdown",
   "id": "d5b51593-4bda-4001-ad32-985ba4fc0822",
   "metadata": {},
   "source": [
    "#### Prediction"
   ]
  },
  {
   "cell_type": "code",
   "execution_count": 24,
   "id": "e42051fb-8003-4564-8b0c-0d3f374ca170",
   "metadata": {},
   "outputs": [
    {
     "name": "stdout",
     "output_type": "stream",
     "text": [
      "GCN test accuracy: 71.00%\n",
      "\n"
     ]
    }
   ],
   "source": [
    "acc = test(model, g_)\n",
    "print(f'GCN test accuracy: {acc*100:.2f}%\\n')"
   ]
  },
  {
   "cell_type": "markdown",
   "id": "cfffbeea-e052-44b6-b493-bb4b349bdaa6",
   "metadata": {},
   "source": [
    "#### Model Save & load"
   ]
  },
  {
   "cell_type": "code",
   "execution_count": null,
   "id": "5b86cc4c-caa0-43ac-8dcf-e8255d57fb77",
   "metadata": {},
   "outputs": [],
   "source": [
    "# torch.save(model.state_dict(), PATH)https://tutorials.pytorch.kr/beginner/saving_loading_models.html"
   ]
  },
  {
   "cell_type": "code",
   "execution_count": null,
   "id": "cf13e260-7d44-430d-9df4-a7c7670c29e8",
   "metadata": {},
   "outputs": [],
   "source": [
    "# model = GCN(g_data.num_features, dim_h, g_data.num_classes)\n",
    "# model.load_state_dict(torch.load(PATH))\n",
    "# model.eval()\n",
    "# acc = test(model, g_)\n",
    "# print(f'GCN test accuracy: {acc*100:.2f}%\\n')"
   ]
  }
 ],
 "metadata": {
  "kernelspec": {
   "display_name": "Python 3 (ipykernel)",
   "language": "python",
   "name": "python3"
  },
  "language_info": {
   "codemirror_mode": {
    "name": "ipython",
    "version": 3
   },
   "file_extension": ".py",
   "mimetype": "text/x-python",
   "name": "python",
   "nbconvert_exporter": "python",
   "pygments_lexer": "ipython3",
   "version": "3.9.13"
  },
  "toc": {
   "base_numbering": 1,
   "nav_menu": {},
   "number_sections": true,
   "sideBar": true,
   "skip_h1_title": false,
   "title_cell": "Table of Contents",
   "title_sidebar": "Contents",
   "toc_cell": false,
   "toc_position": {},
   "toc_section_display": true,
   "toc_window_display": false
  },
  "toc-autonumbering": true
 },
 "nbformat": 4,
 "nbformat_minor": 5
}
